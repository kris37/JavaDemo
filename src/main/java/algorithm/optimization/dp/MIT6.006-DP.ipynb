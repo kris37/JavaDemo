{
 "cells": [
  {
   "cell_type": "code",
   "execution_count": 1,
   "metadata": {},
   "outputs": [],
   "source": [
    "import numpy as np"
   ]
  },
  {
   "cell_type": "code",
   "execution_count": 2,
   "metadata": {},
   "outputs": [],
   "source": [
    "arr = [1,2,4,1,7,8,3]\n",
    "def rec_opt(arr,i):\n",
    "    if i == 0:\n",
    "        return arr[0]\n",
    "    elif i == 1:\n",
    "        return max(arr[0],arr[1])\n",
    "    else:\n",
    "        # select i\n",
    "        A = arr[i] + rec_opt(arr,i - 2)\n",
    "        B = rec_opt(arr,i-1)\n",
    "        return max(A,B)"
   ]
  },
  {
   "cell_type": "code",
   "execution_count": 3,
   "metadata": {},
   "outputs": [
    {
     "name": "stdout",
     "output_type": "stream",
     "text": [
      "15\n"
     ]
    }
   ],
   "source": [
    "print(rec_opt(arr,6))"
   ]
  },
  {
   "cell_type": "code",
   "execution_count": 4,
   "metadata": {},
   "outputs": [],
   "source": [
    "def dp_opt(arr):\n",
    "    his = np.zeros(len(arr))\n",
    "    his[0] = arr[0]\n",
    "    his[1] = arr[1]\n",
    "    for i in range(2,len(arr)):\n",
    "        select = arr[i] + his[i-2]\n",
    "        drop = his[i-1]\n",
    "        his[i] = max(select,drop)\n",
    "    return his[len(arr) -1]"
   ]
  },
  {
   "cell_type": "code",
   "execution_count": 5,
   "metadata": {},
   "outputs": [
    {
     "name": "stdout",
     "output_type": "stream",
     "text": [
      "15.0\n"
     ]
    }
   ],
   "source": [
    "print(dp_opt(arr))"
   ]
  },
  {
   "cell_type": "code",
   "execution_count": 6,
   "metadata": {},
   "outputs": [],
   "source": [
    "## 是否存在和为N的组合\n",
    "#sn = [-1,-9,28,5,9,1,1,3,2,9,14,4,6]\n",
    "sn = [2,34,4,12,5,2]\n",
    "def rec_sumN(array,i,sub):\n",
    "    if sub == 0:\n",
    "        return True\n",
    "    elif i == 0:\n",
    "        return array[0]==sub\n",
    "    else:\n",
    "        A = rec_sumN(array,i -1 ,sub - array[i])\n",
    "        B = rec_sumN(array,i-1,sub)\n",
    "        return A or B"
   ]
  },
  {
   "cell_type": "code",
   "execution_count": 7,
   "metadata": {},
   "outputs": [
    {
     "name": "stdout",
     "output_type": "stream",
     "text": [
      "False\n"
     ]
    }
   ],
   "source": [
    "print(rec_sumN(sn,len(sn) -1 ,-11))"
   ]
  },
  {
   "cell_type": "code",
   "execution_count": 8,
   "metadata": {},
   "outputs": [],
   "source": [
    "sn = [2,34,4,12,5,2]\n",
    "def dp_sum(arr,s):\n",
    "    opt = np.zeros((len(arr),s + 1),dtype = bool)\n",
    "    opt[0,:] = False\n",
    "    opt[0,arr[0]] = True\n",
    "    opt[:,0] = True\n",
    "    for i in range(1,len(arr)):\n",
    "        for j in range(1,s + 1):\n",
    "            if j - arr[i] < 0:\n",
    "                opt[i,j] = opt[i-1,j]\n",
    "            else:\n",
    "                A = opt[i-1,j - arr[i]]\n",
    "                B = opt[i-1,j]\n",
    "                opt[i,j] = A or B\n",
    "    print(opt)            \n",
    "    return opt[len(arr) -1 ,s]"
   ]
  },
  {
   "cell_type": "code",
   "execution_count": 9,
   "metadata": {},
   "outputs": [
    {
     "name": "stdout",
     "output_type": "stream",
     "text": [
      "[[ True False  True False False False False False False False False False\n",
      "  False False False False False False False False False False False False\n",
      "  False]\n",
      " [ True False  True False False False False False False False False False\n",
      "  False False False False False False False False False False False False\n",
      "  False]\n",
      " [ True False  True False  True False  True False False False False False\n",
      "  False False False False False False False False False False False False\n",
      "  False]\n",
      " [ True False  True False  True False  True False False False False False\n",
      "   True False  True False  True False  True False False False False False\n",
      "  False]\n",
      " [ True False  True False  True  True  True  True False  True False  True\n",
      "   True False  True False  True  True  True  True False  True False  True\n",
      "  False]\n",
      " [ True False  True False  True  True  True  True  True  True False  True\n",
      "   True  True  True False  True  True  True  True  True  True False  True\n",
      "  False]]\n"
     ]
    },
    {
     "data": {
      "text/plain": [
       "False"
      ]
     },
     "execution_count": 9,
     "metadata": {},
     "output_type": "execute_result"
    }
   ],
   "source": [
    "dp_sum(sn,24)"
   ]
  },
  {
   "cell_type": "markdown",
   "metadata": {},
   "source": [
    "## 钢条问题\n",
    "* price = {1:2,2:5,3:8,4:9,5:10,6:17,7:17,8:20,9:24,10:30}\n",
    "* 假设给定钢条长度为 L (L >= 1)\n",
    "* 计算其可以卖的最大价值\n",
    "\n",
    "## 分析\n",
    "* select(L,i) 我长度 L 的钢条切不切 为长度 Array[i] 的钢条\n",
    "    * yes total = price[array[i]] + select(L-array[i],i)\n",
    "    * no total = price(L,i - 1)\n",
    "    * 推出条件 i = 0\n"
   ]
  },
  {
   "cell_type": "code",
   "execution_count": 43,
   "metadata": {},
   "outputs": [],
   "source": [
    "price = {1:2,2:3,3:5,4:9,5:10,6:17,7:17,8:20,9:24,10:30}\n",
    "array=[1,2,3,4,5,6,7,8,9,10]\n",
    "li={0:0}\n",
    "def rec_cut(L,i):\n",
    "    if i == 0:\n",
    "        return L*price[array[i]]\n",
    "    elif L == 0:\n",
    "        return 0 \n",
    "    if L >= array[i]:\n",
    "        A = rec_cut(L - array[i],i) + price[array[i]]\n",
    "        B = rec_cut(L,i-1)\n",
    "        return max(A,B)\n",
    "    else:\n",
    "        return rec_cut(L,i-1)"
   ]
  },
  {
   "cell_type": "code",
   "execution_count": 49,
   "metadata": {},
   "outputs": [
    {
     "name": "stdout",
     "output_type": "stream",
     "text": [
      "24\n",
      "{0: 0, 1: 2, 2: 4, 3: 6, 4: 9, 5: 11, 6: 12, 7: 14, 9: 24}\n"
     ]
    }
   ],
   "source": [
    "print(rec_cut(9,len(array)-1))\n",
    "print(li)"
   ]
  },
  {
   "cell_type": "code",
   "execution_count": 22,
   "metadata": {},
   "outputs": [],
   "source": [
    "#Fibonacci\n",
    "def fibonacci(n):\n",
    "    if n <= 2:\n",
    "        return 1\n",
    "    return fibonacci(n - 1) + fibonacci ( n - 2)"
   ]
  },
  {
   "cell_type": "code",
   "execution_count": 205,
   "metadata": {},
   "outputs": [],
   "source": [
    "#切割钢条的 dp方法\n",
    "\n",
    "price = {1:2,2:3,3:5,4:9,5:10,6:17,7:17,8:20,9:27,10:30}\n",
    "array=[1,2,3,4,5,6,7,8,9,10]\n",
    "memory={0:0}\n",
    "def cut_rod(n,p,memory,s):\n",
    "    if n <= 0:\n",
    "        return 0\n",
    "    if n in memory:\n",
    "        return memory[n]\n",
    "    q = 0\n",
    "    for i in range(1,min(n+1,len(p)+1)):\n",
    "        ## queue add path ?\n",
    "        A = p[i] + cut_rod(n-i,p,memory,s)\n",
    "        if q < A:\n",
    "            s[n]=i\n",
    "        q = max(q,A)\n",
    "    memory[n] = q\n",
    "    return q\n",
    "\n",
    "        \n",
    "\n",
    "\n",
    "## 自下向上的方法"
   ]
  },
  {
   "cell_type": "code",
   "execution_count": 206,
   "metadata": {},
   "outputs": [
    {
     "name": "stdout",
     "output_type": "stream",
     "text": [
      "54\n",
      "{1: 1, 2: 1, 3: 1, 4: 4, 5: 1, 6: 6, 7: 1, 8: 1, 9: 9, 10: 10, 11: 1, 12: 1, 13: 1, 14: 4, 15: 6, 16: 6, 17: 1, 18: 9}\n",
      "9\n",
      "9\n"
     ]
    }
   ],
   "source": [
    "s={}\n",
    "n=18\n",
    "print(cut_rod(n,price,memory,s))\n",
    "print(s)\n",
    "while(n in s):\n",
    "    print(s[n])\n",
    "    n=n-s[n]"
   ]
  },
  {
   "cell_type": "code",
   "execution_count": 1,
   "metadata": {},
   "outputs": [],
   "source": [
    "# Fibonacci\n",
    "def fibonacci(n):\n",
    "    if n <= 2:\n",
    "        return 1\n",
    "    return fibonacci(n-1) + fibonacci(n-2)"
   ]
  },
  {
   "cell_type": "code",
   "execution_count": 2,
   "metadata": {},
   "outputs": [
    {
     "data": {
      "text/plain": [
       "6765"
      ]
     },
     "execution_count": 2,
     "metadata": {},
     "output_type": "execute_result"
    }
   ],
   "source": [
    "fibonacci(20)"
   ]
  },
  {
   "cell_type": "code",
   "execution_count": 5,
   "metadata": {},
   "outputs": [],
   "source": [
    "import numpy as np\n",
    "tb = {1:1,2:1}\n",
    "def top_fibonacci(n):\n",
    "    if n in tb:\n",
    "        return tb[n]\n",
    "    tb[n] = top_fibonacci(n-1) + top_fibonacci(n-2)\n",
    "    return tb[n]"
   ]
  },
  {
   "cell_type": "code",
   "execution_count": 8,
   "metadata": {},
   "outputs": [
    {
     "data": {
      "text/plain": [
       "12586269025"
      ]
     },
     "execution_count": 8,
     "metadata": {},
     "output_type": "execute_result"
    }
   ],
   "source": [
    "top_fibonacci(50)"
   ]
  },
  {
   "cell_type": "markdown",
   "metadata": {},
   "source": [
    "## 使用 DP 的思想解决 DAG 中的单源最短路径\n",
    "```text\n",
    "D(s,v) = Min(D(s,u) + w(u,v)) u ∑ v's parent node\n",
    "```\n",
    "    "
   ]
  },
  {
   "cell_type": "code",
   "execution_count": 208,
   "metadata": {},
   "outputs": [],
   "source": [
    "def dp_Dijkstra(s,t,adj,memory):\n",
    "    if s == t:\n",
    "        return 0\n",
    "    if t in memory:\n",
    "        return memory[t]\n",
    "    p = sys.maxint\n",
    "    for v in t['indegree']:\n",
    "        p = min(p,dp_Dijkstra(s,v,adj,memory)+wight(v,t))\n",
    "    memory[t] = p\n",
    "    return p"
   ]
  },
  {
   "cell_type": "markdown",
   "metadata": {},
   "source": [
    "## DP 解决 text justification 文本对其及格式化问题\n"
   ]
  },
  {
   "cell_type": "code",
   "execution_count": 311,
   "metadata": {},
   "outputs": [],
   "source": [
    "import sys\n",
    "def dp_text(start,list,L,r,memory):\n",
    "    # check if laest lines and j in len(list[start+1:MaxLFinder])\n",
    "    if start >= len(list):\n",
    "        return 0\n",
    "    if start in memory:\n",
    "        return memory[start]\n",
    "    p = sys.maxsize\n",
    "    #print(start,maxJ(start+1,list,L))\n",
    "    for j in range(start+1,max(start+1,maxJ(start,list,L))):\n",
    "        A = dp_text(j,list,L,r,memory)+badness(start,j,list,L)\n",
    "        if A < p:\n",
    "            r[start]=j\n",
    "        p = min(A,p)\n",
    "    \n",
    "    memory[start] = p\n",
    "    return p\n",
    "            \n",
    "        \n",
    "\n",
    "# i:start  j:nextLineStart,L maxLength 评判标准是空格越多那么评分就越不好(分数越高)      \n",
    "def badness(i,j,list,L):\n",
    "    if j>= len(list):\n",
    "        return 0\n",
    "    cut = list[i:j]\n",
    "    length = len(cut)\n",
    "    for word in cut:\n",
    "        L-=len(word)\n",
    "    L-=(length-1)\n",
    "    return L*L\n",
    "        \n",
    "    \n",
    "    \n",
    "def maxJ(begin,list,L):\n",
    "    # [begin ,J+1) return J+1 下一行的起点的最大索引，如果超过它那么本行数据就超出 L了\n",
    "    i = 0\n",
    "    while(len(list) > (begin + i) and len(list[begin+i])<=L):\n",
    "        L=L-(len(list[begin+i])+1)# 1 blank\n",
    "        i+=1\n",
    "    return begin + i + 1"
   ]
  },
  {
   "cell_type": "code",
   "execution_count": 313,
   "metadata": {},
   "outputs": [
    {
     "name": "stdout",
     "output_type": "stream",
     "text": [
      "{5: 6, 4: 6, 3: 4, 2: 3, 1: 3, 0: 3}\n"
     ]
    }
   ],
   "source": [
    "words = [\"What\",\"must\",\"be\",\"acknowledgment\",\"shall\",\"be\"]\n",
    "#words = [\"This\", \"is\", \"an\", \"example\", \"of\", \"text\", \"justification.\"]\n",
    "maxL = 16\n",
    "memory={}\n",
    "r={}\n",
    "dp_text(0,words,maxL,r,memory)\n",
    "print(r)"
   ]
  },
  {
   "cell_type": "markdown",
   "metadata": {},
   "source": [
    "## parenthesization \n",
    "```\n",
    "矩阵乘法的优化问题\n",
    "是 DP 的 字串s[i:j] 问题\n",
    "通常 使用 DP 的前缀[i:]，后缀[:j] 比较简单\n",
    "但是对于子问题处于中间的游离，可以for k in sub[i+1:j]\n",
    "Dp(i,k) +Dp(k+1,j) +cost 进行动态规划\n",
    "```"
   ]
  },
  {
   "cell_type": "code",
   "execution_count": null,
   "metadata": {},
   "outputs": [],
   "source": [
    ""
   ]
  },
  {
   "cell_type": "markdown",
   "metadata": {},
   "source": [
    "## edit distance 编辑距离\n",
    "```\n",
    "min(cost(insert,delete,replace))\n",
    "strA transform to strB in min cost\n",
    "\n",
    "kitten和sitting的莱文斯坦距离是3。将kitten变为sitting的最小处理方式如下：\n",
    "\n",
    "kitten → sitten（将k改为s）\n",
    "sitten → sittin（将e改为i）\n",
    "sittin → sitting（最后加入g）\n",
    "```"
   ]
  },
  {
   "cell_type": "code",
   "execution_count": 411,
   "metadata": {},
   "outputs": [],
   "source": [
    "def dp_edit_distance(x,i,y,j):\n",
    "    if j >= len(y):\n",
    "        return len(x) - i\n",
    "    if i >= len(x):\n",
    "        return len(y) - j\n",
    "    if x[i]==y[j]:\n",
    "        return dp_edit_distance(x,i+1,y,j+1)\n",
    "    # x 删除 i 指向下一个指针\n",
    "    A = dp_edit_distance(x,i+1,y,j) + 1\n",
    "    # x isert 在 i 之前插入一个字符， 如果 i = 0 x = y[j]+x  如果 x i= len(x) x =x.append(y[j])\n",
    "    B = dp_edit_distance(x,i,y,j+1) + 1\n",
    "    # x replace to y\n",
    "    C = dp_edit_distance(x,i+1,y,j+1) + 1\n",
    "    return min(A,B,C)"
   ]
  },
  {
   "cell_type": "code",
   "execution_count": 413,
   "metadata": {},
   "outputs": [
    {
     "data": {
      "text/plain": [
       "4"
      ]
     },
     "execution_count": 413,
     "metadata": {},
     "output_type": "execute_result"
    }
   ],
   "source": [
    "x = 'helelo word'\n",
    "y = 'follow word'\n",
    "dp_edit_distance(x,0,y,0)"
   ]
  },
  {
   "cell_type": "markdown",
   "metadata": {},
   "source": [
    "## LCS\n",
    "```\n",
    "可以理解是 Edit Distance 的子问题，只不过这个是对两个序列 x,y 一同说的 并且只有delete 选项\n",
    "\n",
    "lcs(x,i,y,j):\n",
    "    if x[i] == y[j]:\n",
    "       return lcs(x,i+1,y,j+1) + 1\n",
    "    \n",
    "    max(lcs(x,i,y,j+1), 删除 j\n",
    "        lcs(x,i+1,y,j), 删除 i\n",
    "        lcs(x,i+1,y,j+1) 都删除\n",
    "  \n",
    "\n",
    "```"
   ]
  },
  {
   "cell_type": "code",
   "execution_count": 406,
   "metadata": {},
   "outputs": [],
   "source": [
    "def lcs(x,i,y,j,memory):\n",
    "    if i >=len(x) or j >=len(y):\n",
    "        return 0\n",
    "    if (i,j) in memory:\n",
    "        return memory[(i,j)]\n",
    "    if x[i] == y[j]:\n",
    "        memory[(i,j)] = lcs(x,i+1,y,j+1,memory)+1\n",
    "        return memory[(i,j)]\n",
    "    memory[(i,j)] = max(0,lcs(x,i,y,j+1,memory),lcs(x,i+1,y,j,memory),lcs(x,i+1,y,j+1,memory))\n",
    "    return   memory[(i,j)]"
   ]
  },
  {
   "cell_type": "code",
   "execution_count": 407,
   "metadata": {},
   "outputs": [
    {
     "data": {
      "text/plain": [
       "4"
      ]
     },
     "execution_count": 407,
     "metadata": {},
     "output_type": "execute_result"
    }
   ],
   "source": [
    "x = 'aabaaba'\n",
    "y = 'baab'\n",
    "memory={}\n",
    "lcs(x,0,y,0,memory)"
   ]
  },
  {
   "cell_type": "code",
   "execution_count": 364,
   "metadata": {},
   "outputs": [],
   "source": [
    "def minDelete(x,i,y,j,memory):\n",
    "    if i>=len(x) or j>=len(y):\n",
    "        return len(x) + len(y) - i - j \n",
    "    if (i,j) in memory:\n",
    "        return memory[(i,j)]\n",
    "    if x[i] == y[j]:\n",
    "        memory[(i,j)] = minDelete(x,i+1,y,j+1,memory)\n",
    "        return memory[(i,j)]\n",
    "    memory[(i,j)] = min(minDelete(x,i+1,y,j,memory)+1,minDelete(x,i+1,y,j+1,memory)+2,minDelete(x,i,y,j+1,memory)+1)\n",
    "    return memory[(i,j)]"
   ]
  },
  {
   "cell_type": "code",
   "execution_count": 365,
   "metadata": {},
   "outputs": [
    {
     "data": {
      "text/plain": [
       "1"
      ]
     },
     "execution_count": 365,
     "metadata": {},
     "output_type": "execute_result"
    }
   ],
   "source": [
    "x = 'abaab'\n",
    "y = 'baab'\n",
    "memory={}\n",
    "minDelete(x,0,y,0,memory)"
   ]
  },
  {
   "cell_type": "markdown",
   "metadata": {},
   "source": []
  },
  {
   "cell_type": "code",
   "execution_count": 401,
   "metadata": {},
   "outputs": [
    {
     "name": "stdout",
     "output_type": "stream",
     "text": [
      "['a', 'm', 'o', 'r', 'd', 's', '']\n"
     ]
    }
   ],
   "source": [
    "x = list('words ')\n",
    "x[0]='m'\n",
    "y = ['m', 'o', 'r', 'd', 's', '']\n",
    "y[:1]+y[2:]\n",
    "print(['a']+y)"
   ]
  },
  {
   "cell_type": "code",
   "execution_count": 410,
   "metadata": {},
   "outputs": [
    {
     "data": {
      "text/plain": [
       "1"
      ]
     },
     "execution_count": 410,
     "metadata": {},
     "output_type": "execute_result"
    }
   ],
   "source": [
    "import math\n",
    "abs(-1)"
   ]
  },
  {
   "cell_type": "code",
   "execution_count": null,
   "metadata": {},
   "outputs": [],
   "source": [
    ""
   ]
  }
 ],
 "metadata": {
  "kernelspec": {
   "display_name": "Python 3",
   "language": "python",
   "name": "python3"
  },
  "language_info": {
   "codemirror_mode": {
    "name": "ipython",
    "version": 3.0
   },
   "file_extension": ".py",
   "mimetype": "text/x-python",
   "name": "python",
   "nbconvert_exporter": "python",
   "pygments_lexer": "ipython3",
   "version": "3.7.0"
  }
 },
 "nbformat": 4,
 "nbformat_minor": 0
}
