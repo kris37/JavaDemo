{
 "cells": [
  {
   "cell_type": "markdown",
   "metadata": {},
   "source": [
    "# Breadth First Search 广度优先搜索\n",
    "    "
   ]
  },
  {
   "cell_type": "code",
   "execution_count": 1,
   "metadata": {},
   "outputs": [],
   "source": [
    "def BFS(s,adj):\n",
    "    level = {s:0}\n",
    "    parent = {s:None}\n",
    "    i = 1\n",
    "    frontpointer = [s]\n",
    "    # queue or statck is not empty\n",
    "    while frontpointer:\n",
    "        next = []\n",
    "        for u in frontpointer:\n",
    "            for v in adj[u]:\n",
    "                if v not in level:\n",
    "                    level[v] = i\n",
    "                    parent[v] = u\n",
    "                    next.append(v)\n",
    "        frontpointer = next\n",
    "        i+=1"
   ]
  },
  {
   "cell_type": "markdown",
   "metadata": {},
   "source": [
    "## s-> v shortest path\n",
    "* 通过计算 parent[parent[v]] ... =s s ->v 最短路径"
   ]
  },
  {
   "cell_type": "markdown",
   "metadata": {},
   "source": [
    "# Depth First Search DFS\n"
   ]
  },
  {
   "cell_type": "code",
   "execution_count": 18,
   "metadata": {},
   "outputs": [],
   "source": [
    "def DFS_Vist(s,adj):\n",
    "    for v in adj[s]:\n",
    "        if v not in parent:\n",
    "            parent[v] = s\n",
    "            DFS(v,adj)\n",
    "        else:\n",
    "            parentFinder(s,v,parent)\n",
    "# V 是 图所有顶点的集合\n",
    "def DFS(V,adj):\n",
    "    parent = {}\n",
    "    for each in V:\n",
    "        if each not in parent:\n",
    "            parent[each] = None\n",
    "            DFS_Visit(each,adj)\n",
    "\n",
    "# 检测是否存在 回环 # cycle detection 初始化v 都为 =0 ，\n",
    "#被访问 =1 如果 当前节点的adj[v] 都被遍历完毕 则 {v:-1}\n",
    "diction = {}\n",
    "def  parentFinder(cur,forwad,parent):\n",
    "    while(parent[cur]):\n",
    "        if forwad == parent[cur]:\n",
    "            return True\n",
    "        cur = parent[cur]\n",
    "    return False"
   ]
  },
  {
   "cell_type": "markdown",
   "metadata": {},
   "source": [
    "## DAG\n",
    "* tree 可以转换为 DAG\n",
    "* DAG 的 toplogy sort\n",
    "* Spark 及任务调度系统中的DAG\n",
    "\n",
    "#### DFS 遍历 并判断是否有回环\n",
    "#### 入度分析 判定是否是DAG 如不过不是 则存在回环\n",
    "#### 进行排序\n",
    "```\n",
    "  1\n",
    " / \\\n",
    "3- -2\n",
    "```\n",
    "深度优先遍历该图，如果在遍历的过程中，发现某个节点有一条边指向已经访问过的节点，并且这个已访问过的节点不是当前节点的父节点（这里的父节点表示dfs遍历顺序中的父节点），则表示存在环。但是我们不能仅仅使用一个bool数组来标志节点是否访问过\n",
    "\n",
    "从节点1开始遍历-接着遍历2-接着遍历3，然后发现3有一条边指向遍历过的1，则存在环。但是回到1节点时，它的另一条边指向已访问过的3，又把这个环重复计算了一次。\n",
    "\n",
    "我们按照算法导论22.3节深度优先搜索中，对每个节点分为三种状态，白、灰、黑。开始时所有节点都是白色，当开始访问某个节点时该节点变为灰色，当该节点的所有邻接点都访问完，该节点颜色变为黑色。那么我们的算法则为：如果遍历的过程中发现某个节点有一条边指向颜色为灰的节点，那么存在环。则在上面的例子中，回溯到1节点时，虽然有一条边指向已经访问过的3，但是3已经是黑色，所以环不会被重复计算。\n"
   ]
  },
  {
   "cell_type": "code",
   "execution_count": null,
   "metadata": {},
   "outputs": [],
   "source": [
    "def toplogy_sort():\n",
    "    statck = []"
   ]
  }
 ],
 "metadata": {
  "kernelspec": {
   "display_name": "Python 3",
   "language": "python",
   "name": "python3"
  },
  "language_info": {
   "codemirror_mode": {
    "name": "ipython",
    "version": 3.0
   },
   "file_extension": ".py",
   "mimetype": "text/x-python",
   "name": "python",
   "nbconvert_exporter": "python",
   "pygments_lexer": "ipython3",
   "version": "3.7.0"
  }
 },
 "nbformat": 4,
 "nbformat_minor": 0
}
