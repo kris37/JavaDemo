{
 "cells": [
  {
   "cell_type": "markdown",
   "metadata": {},
   "source": [
    "Dij 算法实现\n",
    "```\n",
    "refer https://www.bilibili.com/video/av25829980\n",
    "```\n",
    "wiki\n",
    "\n",
    "这个算法是通过为每个顶点 v 保留目前为止所找到的从s到v的最短路径来工作的。初始时，原点 s 的路径权重被赋为 0 （d[s] = 0）。若对于顶点 s 存在能直接到达的边（s,m），则把d[m]设为w（s, m）,同时把所有其他（s不能直接到达的）顶点的路径长度设为无穷大，即表示我们不知道任何通向这些顶点的路径（对于所有顶点的集合 V 中的任意顶点 v， 若 v 不为 s 和上述 m 之一， d[v] = ∞）。当算法结束时，d[v] 中存储的便是从 s 到 v 的最短路径，或者如果路径不存在的话是无穷大。\n",
    "\n",
    "边的拓展是Dijkstra 算法的基础操作：如果存在一条从 u 到 v 的边，那么从 s 到 v 的最短路径可以通过将边（u, v）添加到尾部来拓展一条从 s 到 v 的路径。这条路径的长度是 d[u] + w(u, v)。如果这个值比目前已知的 d[v] 的值要小，我们可以用新值来替代当前 d[v] 中的值。拓展边的操作一直运行到所有的 d[v] 都代表从 s 到 v 的最短路径的长度值。此算法的组织令 d[u] 达到其最终值时，每条边（u, v）都只被拓展一次。\n",
    "\n",
    "算法维护两个顶点集合 S 和 Q。集合 S 保留所有已知最小 d[v] 值的顶点 v ，而集合 Q 则保留其他所有顶点。集合S初始状态为空，而后每一步都有一个顶点从 Q 移动到 S。这个被选择的顶点是 Q 中拥有最小的 d[u] 值的顶点。当一个顶点 u 从 Q 中转移到了 S 中，算法对 u 的每条外接边 (u, v) 进行拓展。\n",
    "\n",
    "下面的伪代码计算并保留图G中原点s到每一顶点v的最短距离d[v]，同时找出并保留v在此最短路径上的“前趋”，即沿此路径由s前往v，到达v之前所到达的顶点。其中，函数Extract_Min(Q) 将顶点集合Q中有最小d[u]值的顶点u从Q中删除并返回u。\n",
    "```\n",
    " 1  function Dijkstra(G, w, s)\n",
    " 2     for each vertex v in V[G]        // 初始化\n",
    " 3           d[v] := infinity           // 将各点的已知最短距离先设成无穷大\n",
    " 4           previous[v] := undefined   // 各点的已知最短路径上的前趋都未知\n",
    " 5     d[s] := 0                        // 因为出发点到出发点间不需移动任何距离，所以可以直接将s到s的最小距离设为0\n",
    " 6     S := empty set\n",
    " 7     Q := set of all vertices\n",
    " 8     while Q is not an empty set      // Dijkstra算法主体\n",
    " 9           u := Extract_Min(Q)\n",
    "10           S.append(u)\n",
    "11           for each edge outgoing from u as (u,v)\n",
    "12                  if d[v] > d[u] + w(u,v)             // 拓展边（u,v）。w(u,v)为从u到v的路径长度。\n",
    "13                        d[v] := d[u] + w(u,v)         // 更新路径长度到更小的那个和值。\n",
    "14                        previous[v] := u              // 纪录前趋顶点\n",
    "```\n",
    "如果我们只对在 s 和 t 之间查找一条最短路径的话，我们可以在第9行添加条件如果满足 u = t 的话终止程序。\n",
    "\n",
    "通过推导可知，为了记录最佳路径的轨迹，我们只需记录该路径上每个点的前趋，即可通过迭代来回溯出 s 到 t 的最短路径（当然，使用后继节点来存储亦可。但那需要修改代码）：\n",
    "```\n",
    "1 s := empty sequence \n",
    "2 u := t\n",
    "3 while defined u                                        \n",
    "4       insert u to the beginning of S\n",
    "5       u := previous[u]      //previous数组即为上文中的p\n",
    "```\n",
    "现在序列 S 就是从 s 到 t 的最短路径的顶点集。"
   ]
  },
  {
   "cell_type": "code",
   "execution_count": null,
   "metadata": {},
   "outputs": [],
   "source": []
  }
 ],
 "metadata": {
  "kernelspec": {
   "display_name": "Python 3",
   "language": "python",
   "name": "python3"
  },
  "language_info": {
   "codemirror_mode": {
    "name": "ipython",
    "version": 3
   },
   "file_extension": ".py",
   "mimetype": "text/x-python",
   "name": "python",
   "nbconvert_exporter": "python",
   "pygments_lexer": "ipython3",
   "version": "3.7.0"
  }
 },
 "nbformat": 4,
 "nbformat_minor": 2
}
